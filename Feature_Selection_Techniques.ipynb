{
  "nbformat": 4,
  "nbformat_minor": 0,
  "metadata": {
    "colab": {
      "name": "Feature Selection Techniques.ipynb",
      "provenance": []
    },
    "kernelspec": {
      "name": "python3",
      "display_name": "Python 3"
    }
  },
  "cells": [
    {
      "cell_type": "markdown",
      "metadata": {
        "id": "0k4jAsb_9OPO",
        "colab_type": "text"
      },
      "source": [
        "1.Variance Threshold"
      ]
    },
    {
      "cell_type": "code",
      "metadata": {
        "id": "7wd3G_yH9Ewv",
        "colab_type": "code",
        "colab": {}
      },
      "source": [
        "#Returns List of Selected Columns\n",
        "def applyVarianceSelection(X,threshold):\n",
        "  original_cols = X.columns\n",
        "  selected_cols = list()\n",
        "  from sklearn.feature_selection import VarianceThreshold\n",
        "  sel = VarianceThreshold(threshold=(threshold * (1 - threshold))).fit(X,y)\n",
        "  columns_selection = dict(zip(original_cols, sel.get_support()))\n",
        "  for key,value in columns_selection.items():\n",
        "    if value == True:\n",
        "      selected_cols.append(key)\n",
        "  return selected_cols"
      ],
      "execution_count": 0,
      "outputs": []
    },
    {
      "cell_type": "markdown",
      "metadata": {
        "id": "HWIWLRY8FypX",
        "colab_type": "text"
      },
      "source": [
        "2.Univariate Tests"
      ]
    },
    {
      "cell_type": "code",
      "metadata": {
        "id": "jXNdsP4C9juu",
        "colab_type": "code",
        "colab": {}
      },
      "source": [
        "#Returns List of K best Selected Columns\n",
        "def applyKBestSelection(X,y,kbest):\n",
        "  original_cols = X.columns\n",
        "  selected_cols = list()\n",
        "  from sklearn.feature_selection import SelectKBest\n",
        "  from sklearn.feature_selection import f_regression\n",
        "  from sklearn.feature_selection import mutual_info_regression\n",
        "  sel = SelectKBest(mutual_info_regression, k=kbest).fit(X, y) # \n",
        "  columns_selection = dict(zip(original_cols, sel.get_support()))\n",
        "  for key,value in columns_selection.items():\n",
        "    if value == True:\n",
        "      selected_cols.append(key)\n",
        "  return selected_cols"
      ],
      "execution_count": 0,
      "outputs": []
    },
    {
      "cell_type": "markdown",
      "metadata": {
        "id": "fWlyd-qyKK1h",
        "colab_type": "text"
      },
      "source": [
        "**f_classif** : ANOVA F-value between label/feature for classification tasks.\n",
        "\n",
        "**mutual_info_classif** :Mutual information for a discrete target.\n",
        "\n",
        "**chi2**:Chi-squared stats of non-negative features for classification tasks.\n",
        "\n",
        "**f_regression**:F-value between label/feature for regression tasks.\n",
        "\n",
        "**mutual_info_regression**:Mutual information for a continuous target.\n",
        "\n",
        "**SelectPercentile**:Select features based on percentile of the highest scores.\n",
        "\n",
        "**SelectFpr**:Select features based on a false positive rate test.\n",
        "\n",
        "**SelectFdr**:Select features based on an estimated false discovery rate.\n",
        "\n",
        "**SelectFwe**:Select features based on family-wise error rate.\n",
        "\n",
        "**GenericUnivariateSelect**:Univariate feature selector with configurable mode."
      ]
    },
    {
      "cell_type": "markdown",
      "metadata": {
        "id": "KvOszlL-8t7r",
        "colab_type": "text"
      },
      "source": [
        "3.Recursive Feature Elimination"
      ]
    },
    {
      "cell_type": "code",
      "metadata": {
        "id": "0BOjdApG9LDg",
        "colab_type": "code",
        "colab": {}
      },
      "source": [
        "#Returns List of Selected Columns\n",
        "def applyRFE(X,y,n_features,steps):\n",
        "  original_cols = X.columns\n",
        "  selected_cols = list()\n",
        "  from sklearn.feature_selection import RFE\n",
        "  from sklearn.svm import SVR\n",
        "  svr = SVR(kernel=\"linear\", C=1)\n",
        "  rfe = RFE(estimator=svr, n_features_to_select=n_features, step=steps)\n",
        "  rfe.fit(X, y)\n",
        "  columns_selection = dict(zip(original_cols,rfe.support_))\n",
        "  for key,value in columns_selection.items():\n",
        "    if value == True:\n",
        "      selected_cols.append(key)\n",
        "  return selected_cols"
      ],
      "execution_count": 0,
      "outputs": []
    },
    {
      "cell_type": "markdown",
      "metadata": {
        "id": "PALEkHCrBZUU",
        "colab_type": "text"
      },
      "source": [
        "4.Recursive Feature Elimination with Cross Validation"
      ]
    },
    {
      "cell_type": "code",
      "metadata": {
        "id": "0YKgV9T3BfhZ",
        "colab_type": "code",
        "colab": {}
      },
      "source": [
        "#Returns List of Selected Columns\n",
        "def applyRFECV(X,y,steps):\n",
        "  original_cols = X.columns\n",
        "  selected_cols = list()\n",
        "  from sklearn.model_selection import StratifiedKFold\n",
        "  from sklearn.feature_selection import RFECV\n",
        "  from sklearn.svm import SVR\n",
        "  svr = SVR(kernel=\"linear\", C=1)\n",
        "  rfecv = RFECV(estimator=svr, step=steps, cv=5) #cv= StratifiedKFold(5) for classification only\n",
        "  rfecv.fit(X, y)\n",
        "  columns_selection = dict(zip(original_cols,rfecv.support_))\n",
        "  for key,value in columns_selection.items():\n",
        "    if value == True:\n",
        "      selected_cols.append(key)\n",
        "  return selected_cols"
      ],
      "execution_count": 0,
      "outputs": []
    },
    {
      "cell_type": "markdown",
      "metadata": {
        "id": "fmqqoRGbHOtu",
        "colab_type": "text"
      },
      "source": [
        "5.Feature selection using SelectFromModel Meta-Transformer"
      ]
    },
    {
      "cell_type": "code",
      "metadata": {
        "id": "mEZ7Dn1MHhtL",
        "colab_type": "code",
        "colab": {}
      },
      "source": [
        "#Model-Based\n",
        "def applySelectFromModel(X,y):\n",
        "  original_cols = X.columns\n",
        "  selected_cols = list()\n",
        "  from sklearn.svm import LinearSVR\n",
        "  from sklearn.feature_selection import SelectFromModel\n",
        "  lsvr = LinearSVR(C=0.001).fit(X, y) #For Classfication lsvc = LinearSVR(C=0.01,penalty='l1',dual=False).fit(X, y)\n",
        "  model = SelectFromModel(lsvr, prefit=True)\n",
        "  columns_selection = dict(zip(original_cols,model.get_support()))\n",
        "  for key,value in columns_selection.items():\n",
        "    if value == True:\n",
        "      selected_cols.append(key)\n",
        "  return selected_cols\n",
        "  \n",
        "#Tree Based\n",
        "def applySelectFromModelEnsembleTrees(X,y):\n",
        "  original_cols = X.columns\n",
        "  selected_cols = list()\n",
        "  from sklearn.feature_selection import SelectFromModel\n",
        "  from sklearn.ensemble import ExtraTreesClassifier,ExtraTreesRegressor\n",
        "  from sklearn.feature_selection import SelectFromModel\n",
        "  clf = ExtraTreesRegressor(n_estimators=50) #ExtraTreesClassifier for classification\n",
        "  clf = clf.fit(X, y) \n",
        "  model = SelectFromModel(clf, prefit=True)\n",
        "  columns_selection = dict(zip(original_cols,model.get_support()))\n",
        "  for key,value in columns_selection.items():\n",
        "    if value == True:\n",
        "      selected_cols.append(key)\n",
        "  return selected_cols"
      ],
      "execution_count": 0,
      "outputs": []
    },
    {
      "cell_type": "markdown",
      "metadata": {
        "id": "nY3UHTZXKqWB",
        "colab_type": "text"
      },
      "source": [
        "Driver Code"
      ]
    },
    {
      "cell_type": "code",
      "metadata": {
        "id": "qCxOG9Gn9lwj",
        "colab_type": "code",
        "colab": {
          "base_uri": "https://localhost:8080/",
          "height": 119
        },
        "outputId": "f51e862b-f855-453e-89f5-303901925e46"
      },
      "source": [
        "from sklearn.datasets import load_iris\n",
        "import pandas as pd\n",
        "data = load_iris()\n",
        "df = pd.DataFrame(data.data, columns=['sep_len','sep_wid','pet_len','pet_wid'])\n",
        "target = 'pet_wid'\n",
        "X = df.loc[:, df.columns != target]\n",
        "y = df[[target]].to_numpy().ravel()\n",
        "print(\"Variance \",applyVarianceSelection(X,0.8))\n",
        "print(\"Kbest \", applyKBestSelection(X,y,3))\n",
        "print(\"RFE\",applyRFE(X,y,3,10))\n",
        "print(\"RFE with Cross Validation\",applyRFECV(X,y,10))\n",
        "print(\"Model Based\", applySelectFromModel(X,y))\n",
        "print(\"Ensemble Tree Bases\", applySelectFromModelEnsembleTrees(X,y))"
      ],
      "execution_count": 83,
      "outputs": [
        {
          "output_type": "stream",
          "text": [
            "Variance  ['sep_len', 'sep_wid', 'pet_len']\n",
            "Kbest  ['sep_len', 'sep_wid', 'pet_len']\n",
            "RFE ['sep_len', 'sep_wid', 'pet_len']\n",
            "RFE with Cross Validation ['sep_len', 'sep_wid', 'pet_len']\n",
            "Model Based ['pet_len']\n",
            "Ensemble Tree Bases ['pet_len']\n"
          ],
          "name": "stdout"
        }
      ]
    }
  ]
}