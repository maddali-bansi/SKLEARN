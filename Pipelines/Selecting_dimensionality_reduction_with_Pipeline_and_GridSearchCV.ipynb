{
  "nbformat": 4,
  "nbformat_minor": 0,
  "metadata": {
    "colab": {
      "name": "Selecting dimensionality reduction with Pipeline and GridSearchCV.ipynb",
      "provenance": []
    },
    "kernelspec": {
      "name": "python3",
      "display_name": "Python 3"
    }
  },
  "cells": [
    {
      "cell_type": "code",
      "metadata": {
        "id": "J_D4wfLsxD_G",
        "colab_type": "code",
        "colab": {}
      },
      "source": [
        "import numpy as np\n",
        "import matplotlib.pyplot as plt\n",
        "from sklearn.datasets import load_digits\n",
        "from sklearn.model_selection import GridSearchCV\n",
        "from sklearn.pipeline import Pipeline\n",
        "from sklearn.svm import LinearSVC\n",
        "from sklearn.decomposition import PCA, NMF\n",
        "from sklearn.feature_selection import SelectKBest, chi2"
      ],
      "execution_count": 0,
      "outputs": []
    },
    {
      "cell_type": "code",
      "metadata": {
        "id": "Of4WvkS1xHqB",
        "colab_type": "code",
        "colab": {}
      },
      "source": [
        "pipe = Pipeline([\n",
        "    # the reduce_dim stage is populated by the param_grid\n",
        "    ('reduce_dim', 'passthrough'),\n",
        "    ('classify', LinearSVC(dual=False, max_iter=10000))\n",
        "])"
      ],
      "execution_count": 0,
      "outputs": []
    },
    {
      "cell_type": "code",
      "metadata": {
        "id": "heJqsl3dxM-O",
        "colab_type": "code",
        "colab": {}
      },
      "source": [
        "N_FEATURES_OPTIONS = [2, 4, 8]\n",
        "C_OPTIONS = [1, 10, 100, 1000]\n",
        "param_grid = [\n",
        "    {\n",
        "        'reduce_dim': [PCA(iterated_power=7), NMF()],\n",
        "        'reduce_dim__n_components': N_FEATURES_OPTIONS,\n",
        "        'classify__C': C_OPTIONS\n",
        "    },\n",
        "    {\n",
        "        'reduce_dim': [SelectKBest(chi2)],\n",
        "        'reduce_dim__k': N_FEATURES_OPTIONS,\n",
        "        'classify__C': C_OPTIONS\n",
        "    },\n",
        "]"
      ],
      "execution_count": 0,
      "outputs": []
    },
    {
      "cell_type": "code",
      "metadata": {
        "id": "NZM5ubXBxPuQ",
        "colab_type": "code",
        "colab": {}
      },
      "source": [
        "reducer_labels = ['PCA', 'NMF', 'KBest(chi2)']\n",
        "grid = GridSearchCV(pipe, n_jobs=1, param_grid=param_grid)\n",
        "X, y = load_digits(return_X_y=True)\n",
        "grid.fit(X, y)\n",
        "mean_scores = np.array(grid.cv_results_['mean_test_score'])\n",
        "# scores are in the order of param_grid iteration, which is alphabetical\n",
        "mean_scores = mean_scores.reshape(len(C_OPTIONS), -1, len(N_FEATURES_OPTIONS))\n",
        "# select score for best C\n",
        "mean_scores = mean_scores.max(axis=0)"
      ],
      "execution_count": 0,
      "outputs": []
    },
    {
      "cell_type": "code",
      "metadata": {
        "id": "eTk1aBzBxTkH",
        "colab_type": "code",
        "colab": {
          "base_uri": "https://localhost:8080/",
          "height": 295
        },
        "outputId": "3991510a-5ef3-4ed4-e9b7-f111ba07220d"
      },
      "source": [
        "bar_offsets = (np.arange(len(N_FEATURES_OPTIONS)) *\n",
        "               (len(reducer_labels) + 1) + .5)\n",
        "\n",
        "plt.figure()\n",
        "COLORS = 'bgrcmyk'\n",
        "for i, (label, reducer_scores) in enumerate(zip(reducer_labels, mean_scores)):\n",
        "    plt.bar(bar_offsets + i, reducer_scores, label=label, color=COLORS[i])\n",
        "\n",
        "plt.title(\"Comparing feature reduction techniques\")\n",
        "plt.xlabel('Reduced number of features')\n",
        "plt.xticks(bar_offsets + len(reducer_labels) / 2, N_FEATURES_OPTIONS)\n",
        "plt.ylabel('Digit classification accuracy')\n",
        "plt.ylim((0, 1))\n",
        "plt.legend(loc='upper left')\n",
        "\n",
        "plt.show()"
      ],
      "execution_count": 6,
      "outputs": [
        {
          "output_type": "display_data",
          "data": {
            "image/png": "[encoded data removed]",
            "text/plain": [
              "<Figure size 432x288 with 1 Axes>"
            ]
          },
          "metadata": {
            "tags": [],
            "needs_background": "light"
          }
        }
      ]
    },
    {
      "cell_type": "code",
      "metadata": {
        "id": "-WBVVFCcxeJL",
        "colab_type": "code",
        "colab": {}
      },
      "source": [
        ""
      ],
      "execution_count": 0,
      "outputs": []
    }
  ]
}
