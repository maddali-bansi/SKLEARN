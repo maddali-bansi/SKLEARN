{
  "nbformat": 4,
  "nbformat_minor": 0,
  "metadata": {
    "colab": {
      "name": "Concatenating multiple feature extraction methods.ipynb",
      "provenance": []
    },
    "kernelspec": {
      "name": "python3",
      "display_name": "Python 3"
    }
  },
  "cells": [
    {
      "cell_type": "code",
      "metadata": {
        "id": "DswsqbRsywcz",
        "colab_type": "code",
        "colab": {}
      },
      "source": [
        "from sklearn.pipeline import Pipeline, FeatureUnion\n",
        "from sklearn.model_selection import GridSearchCV\n",
        "from sklearn.svm import SVC\n",
        "from sklearn.datasets import load_iris\n",
        "from sklearn.decomposition import PCA\n",
        "from sklearn.feature_selection import SelectKBest"
      ],
      "execution_count": 0,
      "outputs": []
    },
    {
      "cell_type": "code",
      "metadata": {
        "id": "5paAGTMcy21y",
        "colab_type": "code",
        "colab": {}
      },
      "source": [
        "iris = load_iris()\n",
        "X, y = iris.data, iris.target"
      ],
      "execution_count": 0,
      "outputs": []
    },
    {
      "cell_type": "code",
      "metadata": {
        "id": "ie7gnlkxy8cU",
        "colab_type": "code",
        "colab": {}
      },
      "source": [
        "# This dataset is way too high-dimensional. Better do PCA:\n",
        "pca = PCA(n_components=2)\n",
        "# Maybe some original features where good, too?\n",
        "selection = SelectKBest(k=1)"
      ],
      "execution_count": 0,
      "outputs": []
    },
    {
      "cell_type": "code",
      "metadata": {
        "id": "rIjSnYKJzBru",
        "colab_type": "code",
        "colab": {
          "base_uri": "https://localhost:8080/",
          "height": 34
        },
        "outputId": "3a5ad545-94be-4558-d3da-85a710d04789"
      },
      "source": [
        "# Build estimator from PCA and Univariate selection:\n",
        "combined_features = FeatureUnion([(\"pca\", pca), (\"univ_select\", selection)])\n",
        "# Use combined features to transform dataset:\n",
        "X_features = combined_features.fit(X, y).transform(X)\n",
        "print(\"Combined space has\", X_features.shape[1], \"features\")\n",
        "svm = SVC(kernel=\"linear\")"
      ],
      "execution_count": 4,
      "outputs": [
        {
          "output_type": "stream",
          "text": [
            "Combined space has 3 features\n"
          ],
          "name": "stdout"
        }
      ]
    },
    {
      "cell_type": "code",
      "metadata": {
        "id": "IlL6VKN0zHpv",
        "colab_type": "code",
        "colab": {
          "base_uri": "https://localhost:8080/",
          "height": 1000
        },
        "outputId": "9f22eeb1-0724-4131-85c0-117b2a7e9b8f"
      },
      "source": [
        "# Do grid search over k, n_components and C:\n",
        "pipeline = Pipeline([(\"features\", combined_features), (\"svm\", svm)])\n",
        "param_grid = dict(features__pca__n_components=[1, 2, 3],features__univ_select__k=[1, 2],svm__C=[0.1, 1, 10])\n",
        "grid_search = GridSearchCV(pipeline, param_grid=param_grid, verbose=10)\n",
        "grid_search.fit(X, y)\n",
        "print(grid_search.best_estimator_)"
      ],
      "execution_count": 5,
      "outputs": [
        {
          "output_type": "stream",
          "text": [
            "Fitting 5 folds for each of 18 candidates, totalling 90 fits\n",
            "[CV] features__pca__n_components=1, features__univ_select__k=1, svm__C=0.1 \n",
            "[CV]  features__pca__n_components=1, features__univ_select__k=1, svm__C=0.1, score=0.933, total=   0.0s\n",
            "[CV] features__pca__n_components=1, features__univ_select__k=1, svm__C=0.1 \n",
            "[CV]  features__pca__n_components=1, features__univ_select__k=1, svm__C=0.1, score=0.933, total=   0.0s\n",
            "[CV] features__pca__n_components=1, features__univ_select__k=1, svm__C=0.1 \n",
            "[CV]  features__pca__n_components=1, features__univ_select__k=1, svm__C=0.1, score=0.867, total=   0.0s\n",
            "[CV] features__pca__n_components=1, features__univ_select__k=1, svm__C=0.1 \n",
            "[CV]  features__pca__n_components=1, features__univ_select__k=1, svm__C=0.1, score=0.933, total=   0.0s\n",
            "[CV] features__pca__n_components=1, features__univ_select__k=1, svm__C=0.1 \n",
            "[CV]  features__pca__n_components=1, features__univ_select__k=1, svm__C=0.1, score=1.000, total=   0.0s\n",
            "[CV] features__pca__n_components=1, features__univ_select__k=1, svm__C=1 \n",
            "[CV]  features__pca__n_components=1, features__univ_select__k=1, svm__C=1, score=0.900, total=   0.0s\n",
            "[CV] features__pca__n_components=1, features__univ_select__k=1, svm__C=1 \n",
            "[CV]  features__pca__n_components=1, features__univ_select__k=1, svm__C=1, score=1.000, total=   0.0s\n",
            "[CV] features__pca__n_components=1, features__univ_select__k=1, svm__C=1 \n",
            "[CV]  features__pca__n_components=1, features__univ_select__k=1, svm__C=1, score=0.867, total=   0.0s\n",
            "[CV] features__pca__n_components=1, features__univ_select__k=1, svm__C=1 \n",
            "[CV]  features__pca__n_components=1, features__univ_select__k=1, svm__C=1, score=0.933, total=   0.0s\n",
            "[CV] features__pca__n_components=1, features__univ_select__k=1, svm__C=1 \n",
            "[CV]  features__pca__n_components=1, features__univ_select__k=1, svm__C=1, score=1.000, total=   0.0s\n",
            "[CV] features__pca__n_components=1, features__univ_select__k=1, svm__C=10 \n",
            "[CV]  features__pca__n_components=1, features__univ_select__k=1, svm__C=10, score=0.933, total=   0.0s\n",
            "[CV] features__pca__n_components=1, features__univ_select__k=1, svm__C=10 \n",
            "[CV]  features__pca__n_components=1, features__univ_select__k=1, svm__C=10, score=1.000, total=   0.0s\n",
            "[CV] features__pca__n_components=1, features__univ_select__k=1, svm__C=10 \n",
            "[CV]  features__pca__n_components=1, features__univ_select__k=1, svm__C=10, score=0.900, total=   0.0s\n",
            "[CV] features__pca__n_components=1, features__univ_select__k=1, svm__C=10 \n",
            "[CV]  features__pca__n_components=1, features__univ_select__k=1, svm__C=10, score=0.933, total=   0.0s\n",
            "[CV] features__pca__n_components=1, features__univ_select__k=1, svm__C=10 \n",
            "[CV]  features__pca__n_components=1, features__univ_select__k=1, svm__C=10, score=1.000, total=   0.0s\n",
            "[CV] features__pca__n_components=1, features__univ_select__k=2, svm__C=0.1 \n",
            "[CV]  features__pca__n_components=1, features__univ_select__k=2, svm__C=0.1, score=0.933, total=   0.0s\n",
            "[CV] features__pca__n_components=1, features__univ_select__k=2, svm__C=0.1 \n",
            "[CV]  features__pca__n_components=1, features__univ_select__k=2, svm__C=0.1, score=0.967, total=   0.0s\n",
            "[CV] features__pca__n_components=1, features__univ_select__k=2, svm__C=0.1 \n",
            "[CV]  features__pca__n_components=1, features__univ_select__k=2, svm__C=0.1, score=0.933, total=   0.0s\n",
            "[CV] features__pca__n_components=1, features__univ_select__k=2, svm__C=0.1 \n",
            "[CV]  features__pca__n_components=1, features__univ_select__k=2, svm__C=0.1, score=0.933, total=   0.0s\n",
            "[CV] features__pca__n_components=1, features__univ_select__k=2, svm__C=0.1 \n",
            "[CV]  features__pca__n_components=1, features__univ_select__k=2, svm__C=0.1, score=1.000, total=   0.0s\n",
            "[CV] features__pca__n_components=1, features__univ_select__k=2, svm__C=1 \n",
            "[CV]  features__pca__n_components=1, features__univ_select__k=2, svm__C=1, score=0.933, total=   0.0s\n",
            "[CV] features__pca__n_components=1, features__univ_select__k=2, svm__C=1 \n",
            "[CV]  features__pca__n_components=1, features__univ_select__k=2, svm__C=1, score=0.967, total=   0.0s\n",
            "[CV] features__pca__n_components=1, features__univ_select__k=2, svm__C=1 \n",
            "[CV]  features__pca__n_components=1, features__univ_select__k=2, svm__C=1, score=0.933, total=   0.0s\n",
            "[CV] features__pca__n_components=1, features__univ_select__k=2, svm__C=1 \n",
            "[CV]  features__pca__n_components=1, features__univ_select__k=2, svm__C=1, score=0.933, total=   0.0s\n",
            "[CV] features__pca__n_components=1, features__univ_select__k=2, svm__C=1 \n",
            "[CV]  features__pca__n_components=1, features__univ_select__k=2, svm__C=1, score=1.000, total=   0.0s\n",
            "[CV] features__pca__n_components=1, features__univ_select__k=2, svm__C=10 \n",
            "[CV]  features__pca__n_components=1, features__univ_select__k=2, svm__C=10, score=0.967, total=   0.0s\n",
            "[CV] features__pca__n_components=1, features__univ_select__k=2, svm__C=10 \n",
            "[CV]  features__pca__n_components=1, features__univ_select__k=2, svm__C=10, score=0.967, total=   0.0s\n",
            "[CV] features__pca__n_components=1, features__univ_select__k=2, svm__C=10 \n",
            "[CV]  features__pca__n_components=1, features__univ_select__k=2, svm__C=10, score=0.933, total=   0.0s\n",
            "[CV] features__pca__n_components=1, features__univ_select__k=2, svm__C=10 \n",
            "[CV]  features__pca__n_components=1, features__univ_select__k=2, svm__C=10, score=0.933, total=   0.0s\n",
            "[CV] features__pca__n_components=1, features__univ_select__k=2, svm__C=10 \n",
            "[CV]  features__pca__n_components=1, features__univ_select__k=2, svm__C=10, score=1.000, total=   0.0s\n",
            "[CV] features__pca__n_components=2, features__univ_select__k=1, svm__C=0.1 \n",
            "[CV]  features__pca__n_components=2, features__univ_select__k=1, svm__C=0.1, score=0.933, total=   0.0s\n",
            "[CV] features__pca__n_components=2, features__univ_select__k=1, svm__C=0.1 \n",
            "[CV]  features__pca__n_components=2, features__univ_select__k=1, svm__C=0.1, score=1.000, total=   0.0s\n",
            "[CV] features__pca__n_components=2, features__univ_select__k=1, svm__C=0.1 \n",
            "[CV]  features__pca__n_components=2, features__univ_select__k=1, svm__C=0.1, score=0.867, total=   0.0s\n",
            "[CV] features__pca__n_components=2, features__univ_select__k=1, svm__C=0.1 \n",
            "[CV]  features__pca__n_components=2, features__univ_select__k=1, svm__C=0.1, score=0.933, total=   0.0s\n",
            "[CV] features__pca__n_components=2, features__univ_select__k=1, svm__C=0.1 \n",
            "[CV]  features__pca__n_components=2, features__univ_select__k=1, svm__C=0.1, score=1.000, total=   0.0s\n",
            "[CV] features__pca__n_components=2, features__univ_select__k=1, svm__C=1 \n",
            "[CV]  features__pca__n_components=2, features__univ_select__k=1, svm__C=1, score=0.967, total=   0.0s\n",
            "[CV] features__pca__n_components=2, features__univ_select__k=1, svm__C=1 \n",
            "[CV]  features__pca__n_components=2, features__univ_select__k=1, svm__C=1, score=1.000, total=   0.0s\n",
            "[CV] features__pca__n_components=2, features__univ_select__k=1, svm__C=1 \n",
            "[CV]  features__pca__n_components=2, features__univ_select__k=1, svm__C=1, score=0.933, total=   0.0s\n",
            "[CV] features__pca__n_components=2, features__univ_select__k=1, svm__C=1 \n",
            "[CV]  features__pca__n_components=2, features__univ_select__k=1, svm__C=1, score=0.933, total=   0.0s\n",
            "[CV] features__pca__n_components=2, features__univ_select__k=1, svm__C=1 \n",
            "[CV]  features__pca__n_components=2, features__univ_select__k=1, svm__C=1, score=1.000, total=   0.0s\n",
            "[CV] features__pca__n_components=2, features__univ_select__k=1, svm__C=10 \n",
            "[CV]  features__pca__n_components=2, features__univ_select__k=1, svm__C=10, score=0.967, total=   0.0s\n",
            "[CV] features__pca__n_components=2, features__univ_select__k=1, svm__C=10 \n"
          ],
          "name": "stdout"
        },
        {
          "output_type": "stream",
          "text": [
            "[Parallel(n_jobs=1)]: Using backend SequentialBackend with 1 concurrent workers.\n",
            "[Parallel(n_jobs=1)]: Done   1 out of   1 | elapsed:    0.0s remaining:    0.0s\n",
            "[Parallel(n_jobs=1)]: Done   2 out of   2 | elapsed:    0.0s remaining:    0.0s\n",
            "[Parallel(n_jobs=1)]: Done   3 out of   3 | elapsed:    0.0s remaining:    0.0s\n",
            "[Parallel(n_jobs=1)]: Done   4 out of   4 | elapsed:    0.0s remaining:    0.0s\n",
            "[Parallel(n_jobs=1)]: Done   5 out of   5 | elapsed:    0.0s remaining:    0.0s\n",
            "[Parallel(n_jobs=1)]: Done   6 out of   6 | elapsed:    0.0s remaining:    0.0s\n",
            "[Parallel(n_jobs=1)]: Done   7 out of   7 | elapsed:    0.0s remaining:    0.0s\n",
            "[Parallel(n_jobs=1)]: Done   8 out of   8 | elapsed:    0.1s remaining:    0.0s\n",
            "[Parallel(n_jobs=1)]: Done   9 out of   9 | elapsed:    0.1s remaining:    0.0s\n"
          ],
          "name": "stderr"
        },
        {
          "output_type": "stream",
          "text": [
            "[CV]  features__pca__n_components=2, features__univ_select__k=1, svm__C=10, score=0.967, total=   0.0s\n",
            "[CV] features__pca__n_components=2, features__univ_select__k=1, svm__C=10 \n",
            "[CV]  features__pca__n_components=2, features__univ_select__k=1, svm__C=10, score=0.900, total=   0.0s\n",
            "[CV] features__pca__n_components=2, features__univ_select__k=1, svm__C=10 \n",
            "[CV]  features__pca__n_components=2, features__univ_select__k=1, svm__C=10, score=0.933, total=   0.0s\n",
            "[CV] features__pca__n_components=2, features__univ_select__k=1, svm__C=10 \n",
            "[CV]  features__pca__n_components=2, features__univ_select__k=1, svm__C=10, score=1.000, total=   0.0s\n",
            "[CV] features__pca__n_components=2, features__univ_select__k=2, svm__C=0.1 \n",
            "[CV]  features__pca__n_components=2, features__univ_select__k=2, svm__C=0.1, score=0.967, total=   0.0s\n",
            "[CV] features__pca__n_components=2, features__univ_select__k=2, svm__C=0.1 \n",
            "[CV]  features__pca__n_components=2, features__univ_select__k=2, svm__C=0.1, score=1.000, total=   0.0s\n",
            "[CV] features__pca__n_components=2, features__univ_select__k=2, svm__C=0.1 \n",
            "[CV]  features__pca__n_components=2, features__univ_select__k=2, svm__C=0.1, score=0.933, total=   0.0s\n",
            "[CV] features__pca__n_components=2, features__univ_select__k=2, svm__C=0.1 \n",
            "[CV]  features__pca__n_components=2, features__univ_select__k=2, svm__C=0.1, score=0.933, total=   0.0s\n",
            "[CV] features__pca__n_components=2, features__univ_select__k=2, svm__C=0.1 \n",
            "[CV]  features__pca__n_components=2, features__univ_select__k=2, svm__C=0.1, score=1.000, total=   0.0s\n",
            "[CV] features__pca__n_components=2, features__univ_select__k=2, svm__C=1 \n",
            "[CV]  features__pca__n_components=2, features__univ_select__k=2, svm__C=1, score=0.967, total=   0.0s\n",
            "[CV] features__pca__n_components=2, features__univ_select__k=2, svm__C=1 \n",
            "[CV]  features__pca__n_components=2, features__univ_select__k=2, svm__C=1, score=1.000, total=   0.0s\n",
            "[CV] features__pca__n_components=2, features__univ_select__k=2, svm__C=1 \n",
            "[CV]  features__pca__n_components=2, features__univ_select__k=2, svm__C=1, score=0.933, total=   0.0s\n",
            "[CV] features__pca__n_components=2, features__univ_select__k=2, svm__C=1 \n",
            "[CV]  features__pca__n_components=2, features__univ_select__k=2, svm__C=1, score=0.967, total=   0.0s\n",
            "[CV] features__pca__n_components=2, features__univ_select__k=2, svm__C=1 \n",
            "[CV]  features__pca__n_components=2, features__univ_select__k=2, svm__C=1, score=1.000, total=   0.0s\n",
            "[CV] features__pca__n_components=2, features__univ_select__k=2, svm__C=10 \n",
            "[CV]  features__pca__n_components=2, features__univ_select__k=2, svm__C=10, score=0.967, total=   0.0s\n",
            "[CV] features__pca__n_components=2, features__univ_select__k=2, svm__C=10 \n",
            "[CV]  features__pca__n_components=2, features__univ_select__k=2, svm__C=10, score=1.000, total=   0.0s\n",
            "[CV] features__pca__n_components=2, features__univ_select__k=2, svm__C=10 \n",
            "[CV]  features__pca__n_components=2, features__univ_select__k=2, svm__C=10, score=0.900, total=   0.0s\n",
            "[CV] features__pca__n_components=2, features__univ_select__k=2, svm__C=10 \n",
            "[CV]  features__pca__n_components=2, features__univ_select__k=2, svm__C=10, score=0.933, total=   0.0s\n",
            "[CV] features__pca__n_components=2, features__univ_select__k=2, svm__C=10 \n",
            "[CV]  features__pca__n_components=2, features__univ_select__k=2, svm__C=10, score=1.000, total=   0.0s\n",
            "[CV] features__pca__n_components=3, features__univ_select__k=1, svm__C=0.1 \n",
            "[CV]  features__pca__n_components=3, features__univ_select__k=1, svm__C=0.1, score=0.967, total=   0.0s\n",
            "[CV] features__pca__n_components=3, features__univ_select__k=1, svm__C=0.1 \n",
            "[CV]  features__pca__n_components=3, features__univ_select__k=1, svm__C=0.1, score=1.000, total=   0.0s\n",
            "[CV] features__pca__n_components=3, features__univ_select__k=1, svm__C=0.1 \n",
            "[CV]  features__pca__n_components=3, features__univ_select__k=1, svm__C=0.1, score=0.933, total=   0.0s\n",
            "[CV] features__pca__n_components=3, features__univ_select__k=1, svm__C=0.1 \n",
            "[CV]  features__pca__n_components=3, features__univ_select__k=1, svm__C=0.1, score=0.967, total=   0.0s\n",
            "[CV] features__pca__n_components=3, features__univ_select__k=1, svm__C=0.1 \n",
            "[CV]  features__pca__n_components=3, features__univ_select__k=1, svm__C=0.1, score=1.000, total=   0.0s\n",
            "[CV] features__pca__n_components=3, features__univ_select__k=1, svm__C=1 \n",
            "[CV]  features__pca__n_components=3, features__univ_select__k=1, svm__C=1, score=0.967, total=   0.0s\n",
            "[CV] features__pca__n_components=3, features__univ_select__k=1, svm__C=1 \n",
            "[CV]  features__pca__n_components=3, features__univ_select__k=1, svm__C=1, score=1.000, total=   0.0s\n",
            "[CV] features__pca__n_components=3, features__univ_select__k=1, svm__C=1 \n",
            "[CV]  features__pca__n_components=3, features__univ_select__k=1, svm__C=1, score=0.933, total=   0.0s\n",
            "[CV] features__pca__n_components=3, features__univ_select__k=1, svm__C=1 \n",
            "[CV]  features__pca__n_components=3, features__univ_select__k=1, svm__C=1, score=0.967, total=   0.0s\n",
            "[CV] features__pca__n_components=3, features__univ_select__k=1, svm__C=1 \n",
            "[CV]  features__pca__n_components=3, features__univ_select__k=1, svm__C=1, score=1.000, total=   0.0s\n",
            "[CV] features__pca__n_components=3, features__univ_select__k=1, svm__C=10 \n",
            "[CV]  features__pca__n_components=3, features__univ_select__k=1, svm__C=10, score=1.000, total=   0.0s\n",
            "[CV] features__pca__n_components=3, features__univ_select__k=1, svm__C=10 \n",
            "[CV]  features__pca__n_components=3, features__univ_select__k=1, svm__C=10, score=1.000, total=   0.0s\n",
            "[CV] features__pca__n_components=3, features__univ_select__k=1, svm__C=10 \n",
            "[CV]  features__pca__n_components=3, features__univ_select__k=1, svm__C=10, score=0.933, total=   0.0s\n",
            "[CV] features__pca__n_components=3, features__univ_select__k=1, svm__C=10 \n",
            "[CV]  features__pca__n_components=3, features__univ_select__k=1, svm__C=10, score=0.967, total=   0.0s\n",
            "[CV] features__pca__n_components=3, features__univ_select__k=1, svm__C=10 \n",
            "[CV]  features__pca__n_components=3, features__univ_select__k=1, svm__C=10, score=1.000, total=   0.0s\n",
            "[CV] features__pca__n_components=3, features__univ_select__k=2, svm__C=0.1 \n",
            "[CV]  features__pca__n_components=3, features__univ_select__k=2, svm__C=0.1, score=0.967, total=   0.0s\n",
            "[CV] features__pca__n_components=3, features__univ_select__k=2, svm__C=0.1 \n",
            "[CV]  features__pca__n_components=3, features__univ_select__k=2, svm__C=0.1, score=1.000, total=   0.0s\n",
            "[CV] features__pca__n_components=3, features__univ_select__k=2, svm__C=0.1 \n",
            "[CV]  features__pca__n_components=3, features__univ_select__k=2, svm__C=0.1, score=0.933, total=   0.0s\n",
            "[CV] features__pca__n_components=3, features__univ_select__k=2, svm__C=0.1 \n",
            "[CV]  features__pca__n_components=3, features__univ_select__k=2, svm__C=0.1, score=0.967, total=   0.0s\n",
            "[CV] features__pca__n_components=3, features__univ_select__k=2, svm__C=0.1 \n",
            "[CV]  features__pca__n_components=3, features__univ_select__k=2, svm__C=0.1, score=1.000, total=   0.0s\n",
            "[CV] features__pca__n_components=3, features__univ_select__k=2, svm__C=1 \n",
            "[CV]  features__pca__n_components=3, features__univ_select__k=2, svm__C=1, score=0.967, total=   0.0s\n",
            "[CV] features__pca__n_components=3, features__univ_select__k=2, svm__C=1 \n",
            "[CV]  features__pca__n_components=3, features__univ_select__k=2, svm__C=1, score=1.000, total=   0.0s\n",
            "[CV] features__pca__n_components=3, features__univ_select__k=2, svm__C=1 \n",
            "[CV]  features__pca__n_components=3, features__univ_select__k=2, svm__C=1, score=0.967, total=   0.0s\n",
            "[CV] features__pca__n_components=3, features__univ_select__k=2, svm__C=1 \n",
            "[CV]  features__pca__n_components=3, features__univ_select__k=2, svm__C=1, score=0.967, total=   0.0s\n",
            "[CV] features__pca__n_components=3, features__univ_select__k=2, svm__C=1 \n",
            "[CV]  features__pca__n_components=3, features__univ_select__k=2, svm__C=1, score=1.000, total=   0.0s\n",
            "[CV] features__pca__n_components=3, features__univ_select__k=2, svm__C=10 \n",
            "[CV]  features__pca__n_components=3, features__univ_select__k=2, svm__C=10, score=1.000, total=   0.0s\n",
            "[CV] features__pca__n_components=3, features__univ_select__k=2, svm__C=10 \n",
            "[CV]  features__pca__n_components=3, features__univ_select__k=2, svm__C=10, score=1.000, total=   0.0s\n",
            "[CV] features__pca__n_components=3, features__univ_select__k=2, svm__C=10 \n",
            "[CV]  features__pca__n_components=3, features__univ_select__k=2, svm__C=10, score=0.900, total=   0.0s\n",
            "[CV] features__pca__n_components=3, features__univ_select__k=2, svm__C=10 \n",
            "[CV]  features__pca__n_components=3, features__univ_select__k=2, svm__C=10, score=0.967, total=   0.0s\n",
            "[CV] features__pca__n_components=3, features__univ_select__k=2, svm__C=10 \n",
            "[CV]  features__pca__n_components=3, features__univ_select__k=2, svm__C=10, score=1.000, total=   0.0s\n",
            "Pipeline(memory=None,\n",
            "         steps=[('features',\n",
            "                 FeatureUnion(n_jobs=None,\n",
            "                              transformer_list=[('pca',\n",
            "                                                 PCA(copy=True,\n",
            "                                                     iterated_power='auto',\n",
            "                                                     n_components=3,\n",
            "                                                     random_state=None,\n",
            "                                                     svd_solver='auto', tol=0.0,\n",
            "                                                     whiten=False)),\n",
            "                                                ('univ_select',\n",
            "                                                 SelectKBest(k=1,\n",
            "                                                             score_func=<function f_classif at 0x7f68b8e68048>))],\n",
            "                              transformer_weights=None, verbose=False)),\n",
            "                ('svm',\n",
            "                 SVC(C=10, break_ties=False, cache_size=200, class_weight=None,\n",
            "                     coef0=0.0, decision_function_shape='ovr', degree=3,\n",
            "                     gamma='scale', kernel='linear', max_iter=-1,\n",
            "                     probability=False, random_state=None, shrinking=True,\n",
            "                     tol=0.001, verbose=False))],\n",
            "         verbose=False)\n"
          ],
          "name": "stdout"
        },
        {
          "output_type": "stream",
          "text": [
            "[Parallel(n_jobs=1)]: Done  90 out of  90 | elapsed:    0.4s finished\n"
          ],
          "name": "stderr"
        }
      ]
    },
    {
      "cell_type": "code",
      "metadata": {
        "id": "fAw-doP_zTdy",
        "colab_type": "code",
        "colab": {}
      },
      "source": [
        ""
      ],
      "execution_count": 0,
      "outputs": []
    }
  ]
}