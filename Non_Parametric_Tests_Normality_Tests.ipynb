{
  "nbformat": 4,
  "nbformat_minor": 0,
  "metadata": {
    "colab": {
      "name": "Non_Parametric_Tests/Normality Tests.ipynb",
      "provenance": []
    },
    "kernelspec": {
      "name": "python3",
      "display_name": "Python 3"
    }
  },
  "cells": [
    {
      "cell_type": "markdown",
      "metadata": {
        "id": "8JUchXTS52An",
        "colab_type": "text"
      },
      "source": [
        "**I . Statistical Methods to check for Normality.**\n",
        "* Shapiro-Wilk Test\n",
        "* D'Augustino's k2 Test\n",
        "* Anderson Darling Test"
      ]
    },
    {
      "cell_type": "markdown",
      "metadata": {
        "id": "YuhLT0jZ6oE-",
        "colab_type": "text"
      },
      "source": [
        "**Interpretation of Tests :**\n",
        "* Assumption(HO) : The distribution was drawn from Gaussian Distribution.\n",
        "* If **p-value <= alpha**,siginificant result,reject null hypothesis,**not Gaussian** (H1)\n",
        "* If **p-value > alpha**,not siginificant result,failed to reject null hypothesis,**Gaussian** (HO)"
      ]
    },
    {
      "cell_type": "markdown",
      "metadata": {
        "id": "rjKYfBQF7nb3",
        "colab_type": "text"
      },
      "source": [
        "1.Shapiro-Wilk Test"
      ]
    },
    {
      "cell_type": "code",
      "metadata": {
        "id": "WN0-lxZX5ufO",
        "colab_type": "code",
        "colab": {}
      },
      "source": [
        "def getShapiroScore(data,alpha=0.05):\n",
        "  from scipy.stats import shapiro\n",
        "  statistic,p = shapiro(data)\n",
        "  print(\"Shapiro-Wilk - Statistic-Score=%.3f,p-value=%.3f\"%(statistic,p))\n",
        "  if p>alpha:\n",
        "    print(\"Sample is Gaussian\")\n",
        "  else:\n",
        "    print(\"Sample is Not Gaussian\")\n",
        "  print('--------------------------')"
      ],
      "execution_count": 0,
      "outputs": []
    },
    {
      "cell_type": "markdown",
      "metadata": {
        "id": "PXFIzo9f9jFj",
        "colab_type": "text"
      },
      "source": [
        "2.D'Augustino's k2 Test"
      ]
    },
    {
      "cell_type": "code",
      "metadata": {
        "id": "Q0T28I5v9MCr",
        "colab_type": "code",
        "colab": {}
      },
      "source": [
        "def getAugustinoScore(data,alpha=0.05):\n",
        "  from scipy.stats import normaltest\n",
        "  statistic,p = normaltest(data)\n",
        "  print(\"D'Augustino's k2 -Statistic-Score=%.3f,p-value=%.3f\"%(statistic,p))\n",
        "  if p>alpha:\n",
        "    print(\"Sample is Gaussian\")\n",
        "  else:\n",
        "    print(\"Sample is Not Gaussian\")\n",
        "  print('--------------------------')"
      ],
      "execution_count": 0,
      "outputs": []
    },
    {
      "cell_type": "markdown",
      "metadata": {
        "id": "iXGACz4t-EsX",
        "colab_type": "text"
      },
      "source": [
        "3.Anderson Darling Test"
      ]
    },
    {
      "cell_type": "code",
      "metadata": {
        "id": "XIJltLHj99EJ",
        "colab_type": "code",
        "colab": {}
      },
      "source": [
        "def getAndersonScore(data,alpha=0.05):\n",
        "  from scipy.stats import anderson\n",
        "  result = anderson(data)\n",
        "  print(\"Anderson Darling -Statistic-Score=%.3f\"%(result.statistic))\n",
        "  p=0\n",
        "  for i in range(len(result.critical_values)):\n",
        "    sl,cv = result.significance_level[i],result.critical_values[i]\n",
        "    if result.statistic < result.critical_values[i]:\n",
        "      print(\"Sample is Gaussian Sig.Level = %.3f,Cric.Val = %.3f\"%(sl,cv))\n",
        "    else:\n",
        "      print(\"Sample is NOT Gaussian Sig.Level = %.3f,Cric.Val = %.3f\"%(sl,cv))\n",
        "  print('--------------------------')"
      ],
      "execution_count": 0,
      "outputs": []
    },
    {
      "cell_type": "code",
      "metadata": {
        "id": "bETIQc0I8pld",
        "colab_type": "code",
        "colab": {}
      },
      "source": [
        "#test Data\n",
        "from numpy.random import seed\n",
        "from numpy.random import rand#uniform Dist\n",
        "from numpy.random import randn#normal Dist\n",
        "seed(1)\n",
        "mean = 50\n",
        "var = 5\n",
        "data = var * randn(100) + mean"
      ],
      "execution_count": 0,
      "outputs": []
    },
    {
      "cell_type": "code",
      "metadata": {
        "id": "yJRKup088fC1",
        "colab_type": "code",
        "outputId": "4ff031bd-6809-43f1-9bef-7e2b2147aeb2",
        "colab": {
          "base_uri": "https://localhost:8080/",
          "height": 238
        }
      },
      "source": [
        "getShapiroScore(data)\n",
        "getAugustinoScore(data)\n",
        "getAndersonScore(data)"
      ],
      "execution_count": 0,
      "outputs": [
        {
          "output_type": "stream",
          "text": [
            "Shapiro-Wilk - Statistic-Score=0.992,p-value=0.822\n",
            "Sample is Gaussian\n",
            "--------------------------\n",
            "D'Augustino's k2 -Statistic-Score=0.102,p-value=0.950\n",
            "Sample is Gaussian\n",
            "--------------------------\n",
            "Anderson Darling -Statistic-Score=0.220\n",
            "Sample is Gaussian Sig.Level = 15.000,Cric.Val = 0.555\n",
            "Sample is Gaussian Sig.Level = 10.000,Cric.Val = 0.632\n",
            "Sample is Gaussian Sig.Level = 5.000,Cric.Val = 0.759\n",
            "Sample is Gaussian Sig.Level = 2.500,Cric.Val = 0.885\n",
            "Sample is Gaussian Sig.Level = 1.000,Cric.Val = 1.053\n",
            "--------------------------\n"
          ],
          "name": "stdout"
        }
      ]
    },
    {
      "cell_type": "markdown",
      "metadata": {
        "id": "K1dV3vgRBTgx",
        "colab_type": "text"
      },
      "source": [
        "**II . Visual Normality Checks**"
      ]
    },
    {
      "cell_type": "markdown",
      "metadata": {
        "id": "f0Z59Q9rBe3H",
        "colab_type": "text"
      },
      "source": [
        "1.Histogram -  To check the graph for gaussian like shape"
      ]
    },
    {
      "cell_type": "code",
      "metadata": {
        "id": "ZHgH4e04-UnQ",
        "colab_type": "code",
        "outputId": "7a52eeb5-8fd0-4dc7-8cc2-19b947396207",
        "colab": {
          "base_uri": "https://localhost:8080/",
          "height": 265
        }
      },
      "source": [
        "from matplotlib import pyplot as plt\n",
        "plt.hist(data)\n",
        "plt.show()"
      ],
      "execution_count": 0,
      "outputs": [
        {
          "output_type": "display_data",
          "data": {
            "image/png": "[encoded data removed]",
            "text/plain": [
              "<Figure size 432x288 with 1 Axes>"
            ]
          },
          "metadata": {
            "tags": []
          }
        }
      ]
    },
    {
      "cell_type": "markdown",
      "metadata": {
        "id": "uco3As6WB0IR",
        "colab_type": "text"
      },
      "source": [
        "2. Quantile-Quantile Plot - The more points along the line,the more gaussian dist is."
      ]
    },
    {
      "cell_type": "code",
      "metadata": {
        "id": "Ks8OXhbqBm15",
        "colab_type": "code",
        "outputId": "86d37ed6-4900-49f7-8f8f-6061102eb9fa",
        "colab": {
          "base_uri": "https://localhost:8080/",
          "height": 279
        }
      },
      "source": [
        "from statsmodels.graphics.gofplots import qqplot\n",
        "qqplot(data,line='s')\n",
        "plt.show()"
      ],
      "execution_count": 0,
      "outputs": [
        {
          "output_type": "display_data",
          "data": {
            "image/png": "[encoded data removed]",
            "text/plain": [
              "<Figure size 432x288 with 1 Axes>"
            ]
          },
          "metadata": {
            "tags": []
          }
        }
      ]
    },
    {
      "cell_type": "code",
      "metadata": {
        "id": "gDqrRQC5CA54",
        "colab_type": "code",
        "colab": {}
      },
      "source": [
        ""
      ],
      "execution_count": 0,
      "outputs": []
    }
  ]
}